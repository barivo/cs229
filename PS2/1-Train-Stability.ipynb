{
 "cells": [
  {
   "cell_type": "markdown",
   "source": [
    "# CS229: PS2\n",
    "## Problem 1"
   ],
   "metadata": {}
  },
  {
   "cell_type": "code",
   "execution_count": 3,
   "source": [
    "%matplotlib inline\n",
    "from __future__ import division\n",
    "import numpy as np\n",
    "import matplotlib.pyplot as plt\n",
    "import seaborn as sns\n",
    "import pandas as pd\n",
    "\n",
    "sns.set_context('notebook')\n",
    "plt.rcParams['figure.figsize']=(20,20)"
   ],
   "outputs": [],
   "metadata": {
    "colab": {
     "autoexec": {
      "startup": false,
      "wait_interval": 0
     }
    },
    "colab_type": "code",
    "id": "0EwytMhUvOTT"
   }
  },
  {
   "cell_type": "code",
   "execution_count": 4,
   "source": [
    "try:\n",
    "    xrange\n",
    "except NameError:\n",
    "    xrange = range\n",
    "\n",
    "def add_intercept(X_):\n",
    "    m, n = X_.shape\n",
    "    X = np.zeros((m, n + 1))\n",
    "    X[:, 0] = 1\n",
    "    X[:, 1:] = X_\n",
    "    return X\n",
    "\n",
    "def load_data(filename):\n",
    "    D = np.loadtxt(filename)\n",
    "    Y = D[:, 0]\n",
    "    X = D[:, 1:]\n",
    "    return add_intercept(X), Y\n",
    "\n",
    "def calc_grad(X, Y, theta):\n",
    "    m, n = X.shape\n",
    "    grad = np.zeros(theta.shape)\n",
    "\n",
    "    margins = Y * X.dot(theta)\n",
    "    probs = 1. / (1 + np.exp(margins))\n",
    "    grad = -(1./m) * (X.T.dot(probs * Y))\n",
    "\n",
    "    return grad\n",
    "\n",
    "def logistic_regression(X, Y):\n",
    "    m, n = X.shape\n",
    "    theta = np.zeros(n)\n",
    "    learning_rate = 10\n",
    "\n",
    "    i = 0\n",
    "    while True:\n",
    "        i += 1\n",
    "        prev_theta = theta\n",
    "        grad = calc_grad(X, Y, theta)\n",
    "        theta = theta  - learning_rate * (grad)\n",
    "        if i % 10000 == 0:\n",
    "            print('Finished %d iterations' % i)\n",
    "            print(\"DeltaT = {0}\".format(prev_theta - theta))\n",
    "        if np.linalg.norm(prev_theta - theta) < 1e-15:\n",
    "            print('Converged in %d iterations' % i)\n",
    "            break\n",
    "    return\n",
    "\n",
    "def main():\n",
    "    print('==== Training model on data set A ====')\n",
    "    Xa, Ya = load_data('./data/data_a.txt')\n",
    "    logistic_regression(Xa, Ya)\n",
    "\n",
    "    print('\\n==== Training model on data set B ====')\n",
    "    Xb, Yb = load_data('./data/data_b.txt')\n",
    "    logistic_regression(Xb, Yb)\n",
    "\n",
    "    return"
   ],
   "outputs": [],
   "metadata": {
    "colab": {
     "autoexec": {
      "startup": false,
      "wait_interval": 0
     }
    },
    "colab_type": "code",
    "id": "ERXpTIB7vCkm"
   }
  },
  {
   "cell_type": "code",
   "execution_count": null,
   "source": [
    "main()"
   ],
   "outputs": [],
   "metadata": {
    "colab": {
     "autoexec": {
      "startup": false,
      "wait_interval": 0
     },
     "base_uri": "https://localhost:8080/",
     "height": 8918
    },
    "colab_type": "code",
    "executionInfo": {
     "elapsed": 60382,
     "status": "error",
     "timestamp": 1533803229921,
     "user": {
      "displayName": "",
      "photoUrl": "",
      "userId": ""
     },
     "user_tz": -120
    },
    "id": "l6l9vi3wxZAf",
    "outputId": "75c982cb-e0b6-443f-c31a-d9d533d975a1",
    "scrolled": false
   }
  },
  {
   "cell_type": "code",
   "execution_count": null,
   "source": [
    "columns = ['y','x1','x2']\n",
    "dfA = pd.read_csv('./data/data_a.txt', sep=\"\\s+\", header=None)\n",
    "dfA.columns = columns\n",
    "dfA.y.astype('category')\n",
    "dfA.head()"
   ],
   "outputs": [],
   "metadata": {
    "colab": {
     "autoexec": {
      "startup": false,
      "wait_interval": 0
     },
     "base_uri": "https://localhost:8080/",
     "height": 204
    },
    "colab_type": "code",
    "executionInfo": {
     "elapsed": 503,
     "status": "ok",
     "timestamp": 1533802715352,
     "user": {
      "displayName": "",
      "photoUrl": "",
      "userId": ""
     },
     "user_tz": -120
    },
    "id": "xYeTt68FwD5N",
    "outputId": "de3c4b35-b90b-4c77-b7c6-1ebdcb1a8ed1"
   }
  },
  {
   "cell_type": "code",
   "execution_count": null,
   "source": [
    "dfB = pd.read_csv('./data/data_b.txt', sep=\"\\s+\", header=None)\n",
    "dfB.columns = columns\n",
    "dfB.y.astype('category')\n",
    "dfB.head()"
   ],
   "outputs": [],
   "metadata": {
    "colab": {
     "autoexec": {
      "startup": false,
      "wait_interval": 0
     },
     "base_uri": "https://localhost:8080/",
     "height": 204
    },
    "colab_type": "code",
    "executionInfo": {
     "elapsed": 545,
     "status": "ok",
     "timestamp": 1533802716825,
     "user": {
      "displayName": "",
      "photoUrl": "",
      "userId": ""
     },
     "user_tz": -120
    },
    "id": "9ulnMR5Eww5K",
    "outputId": "d826529e-76f8-465d-8934-009284f42623"
   }
  },
  {
   "cell_type": "code",
   "execution_count": null,
   "source": [
    "dfA.describe()"
   ],
   "outputs": [],
   "metadata": {
    "colab": {
     "autoexec": {
      "startup": false,
      "wait_interval": 0
     },
     "base_uri": "https://localhost:8080/",
     "height": 297
    },
    "colab_type": "code",
    "executionInfo": {
     "elapsed": 544,
     "status": "ok",
     "timestamp": 1533802718094,
     "user": {
      "displayName": "",
      "photoUrl": "",
      "userId": ""
     },
     "user_tz": -120
    },
    "id": "H0ql8lLZw11l",
    "outputId": "900768f4-9be6-43a8-df79-fcba64b56de6"
   }
  },
  {
   "cell_type": "code",
   "execution_count": null,
   "source": [
    "dfB.describe()"
   ],
   "outputs": [],
   "metadata": {
    "colab": {
     "autoexec": {
      "startup": false,
      "wait_interval": 0
     },
     "base_uri": "https://localhost:8080/",
     "height": 297
    },
    "colab_type": "code",
    "executionInfo": {
     "elapsed": 541,
     "status": "ok",
     "timestamp": 1533802719170,
     "user": {
      "displayName": "",
      "photoUrl": "",
      "userId": ""
     },
     "user_tz": -120
    },
    "id": "9D-6yJf-w2QL",
    "outputId": "310621fe-30d6-4247-cd9b-7ab4b28e3aef"
   }
  },
  {
   "cell_type": "code",
   "execution_count": null,
   "source": [
    "sns.lmplot(x=\"x1\", y=\"x2\", hue=\"y\", data=dfA, fit_reg=False);"
   ],
   "outputs": [],
   "metadata": {
    "colab": {
     "autoexec": {
      "startup": false,
      "wait_interval": 0
     },
     "base_uri": "https://localhost:8080/",
     "height": 365
    },
    "colab_type": "code",
    "executionInfo": {
     "elapsed": 963,
     "status": "ok",
     "timestamp": 1533802786333,
     "user": {
      "displayName": "",
      "photoUrl": "",
      "userId": ""
     },
     "user_tz": -120
    },
    "id": "RgraOJHZxDT-",
    "outputId": "860d0516-5bb5-496e-8d96-fce540aa874d"
   }
  },
  {
   "cell_type": "code",
   "execution_count": null,
   "source": [
    "sns.pairplot(dfA,vars=[\"x1\", \"x2\"], hue=\"y\", size=4, aspect=1.5, diag_kind=\"kde\");"
   ],
   "outputs": [],
   "metadata": {
    "colab": {
     "autoexec": {
      "startup": false,
      "wait_interval": 0
     },
     "base_uri": "https://localhost:8080/",
     "height": 577
    },
    "colab_type": "code",
    "executionInfo": {
     "elapsed": 1683,
     "status": "ok",
     "timestamp": 1533802788747,
     "user": {
      "displayName": "",
      "photoUrl": "",
      "userId": ""
     },
     "user_tz": -120
    },
    "id": "G8_at_FcxIau",
    "outputId": "82d2cf80-5ec9-401d-a845-a1da893a3db1"
   }
  },
  {
   "cell_type": "code",
   "execution_count": null,
   "source": [
    "sns.lmplot(x=\"x1\", y=\"x2\", hue=\"y\", data=dfB, fit_reg=False);"
   ],
   "outputs": [],
   "metadata": {
    "colab": {
     "autoexec": {
      "startup": false,
      "wait_interval": 0
     },
     "base_uri": "https://localhost:8080/",
     "height": 365
    },
    "colab_type": "code",
    "executionInfo": {
     "elapsed": 957,
     "status": "ok",
     "timestamp": 1533802790376,
     "user": {
      "displayName": "",
      "photoUrl": "",
      "userId": ""
     },
     "user_tz": -120
    },
    "id": "OI5QDDgDxL4v",
    "outputId": "d3493a8d-1665-427e-c281-edc5e1650872"
   }
  },
  {
   "cell_type": "code",
   "execution_count": null,
   "source": [
    "sns.pairplot(dfB,vars=[\"x1\", \"x2\"], hue=\"y\", size=4, aspect=1.5, diag_kind=\"kde\");"
   ],
   "outputs": [],
   "metadata": {
    "colab": {
     "autoexec": {
      "startup": false,
      "wait_interval": 0
     },
     "base_uri": "https://localhost:8080/",
     "height": 577
    },
    "colab_type": "code",
    "executionInfo": {
     "elapsed": 1837,
     "status": "ok",
     "timestamp": 1533802792902,
     "user": {
      "displayName": "",
      "photoUrl": "",
      "userId": ""
     },
     "user_tz": -120
    },
    "id": "5gJKFY5YxMBW",
    "outputId": "3042cd07-b15d-4a7a-aa54-ac9fb3c7d606"
   }
  },
  {
   "cell_type": "code",
   "execution_count": null,
   "source": [
    "dfC = dfB.copy()\n",
    "dfC['x12'] = dfC['x1']+dfC['x2']\n",
    "dfC['x21'] = -dfC['x1']+dfC['x2']\n",
    "sns.lmplot(x=\"x21\", y=\"x12\", hue=\"y\", data=dfC, fit_reg=False);"
   ],
   "outputs": [],
   "metadata": {
    "colab": {
     "autoexec": {
      "startup": false,
      "wait_interval": 0
     },
     "base_uri": "https://localhost:8080/",
     "height": 365
    },
    "colab_type": "code",
    "executionInfo": {
     "elapsed": 869,
     "status": "ok",
     "timestamp": 1533803757192,
     "user": {
      "displayName": "",
      "photoUrl": "",
      "userId": ""
     },
     "user_tz": -120
    },
    "id": "fUVpgpki0-_4",
    "outputId": "a4187029-0a15-4f5c-e472-493c52e4c923"
   }
  }
 ],
 "metadata": {
  "kernelspec": {
   "name": "python3",
   "display_name": "Python 3.9.6 64-bit"
  },
  "language_info": {
   "name": "python",
   "version": "3.9.6",
   "mimetype": "text/x-python",
   "codemirror_mode": {
    "name": "ipython",
    "version": 3
   },
   "pygments_lexer": "ipython3",
   "nbconvert_exporter": "python",
   "file_extension": ".py"
  },
  "interpreter": {
   "hash": "ac2eaa0ea0ebeafcc7822e65e46aa9d4f966f30b695406963e145ea4a91cd4fc"
  }
 },
 "nbformat": 4,
 "nbformat_minor": 2
}