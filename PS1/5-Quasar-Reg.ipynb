{
 "cells": [
  {
   "cell_type": "markdown",
   "source": [
    "# CS229: PS1\n",
    "## Problem 5\n"
   ],
   "metadata": {}
  },
  {
   "cell_type": "code",
   "execution_count": 1,
   "source": [
    "%matplotlib inline\n",
    "import numpy as np \n",
    "import scipy as sp \n",
    "import matplotlib as mpl\n",
    "import matplotlib.cm as cm \n",
    "import matplotlib.pyplot as plt \n",
    "import pandas as pd \n",
    "import seaborn as sns \n",
    "\n",
    "pd.set_option('display.width', 500)\n",
    "pd.set_option('display.max_columns', 100)\n",
    "pd.set_option('display.notebook_repr_html', True)\n",
    "\n",
    "sns.set_context('notebook')"
   ],
   "outputs": [],
   "metadata": {
    "colab": {
     "autoexec": {
      "startup": false,
      "wait_interval": 0
     }
    },
    "colab_type": "code",
    "id": "na0VvPXmYKp1"
   }
  },
  {
   "cell_type": "code",
   "execution_count": null,
   "source": [
    "df_train = pd.read_csv('./data/quasar_train.csv', )\n",
    "cols_train = df_train.columns.values.astype(float).astype(int)\n",
    "df_train.shape\n",
    "df_train.head()"
   ],
   "outputs": [],
   "metadata": {
    "colab": {
     "autoexec": {
      "startup": false,
      "wait_interval": 0
     },
     "base_uri": "https://localhost:8080/",
     "height": 233
    },
    "colab_type": "code",
    "executionInfo": {
     "elapsed": 1334,
     "status": "ok",
     "timestamp": 1533197867947,
     "user": {
      "displayName": "",
      "photoUrl": "",
      "userId": ""
     },
     "user_tz": -120
    },
    "id": "mwdQ1INEZKkb",
    "outputId": "74b4d327-6345-43f1-c2f1-b7db11e5d569"
   }
  },
  {
   "cell_type": "code",
   "execution_count": null,
   "source": [
    "df_test = pd.read_csv('./data/quasar_test.csv', )\n",
    "cols_test = df_train.columns.values.astype(float).astype(int)\n",
    "\n",
    "assert(cols_train == cols_test).all()\n",
    "\n",
    "df_train.columns = cols_train\n",
    "df_test.columns = cols_test\n",
    "df_test.head()"
   ],
   "outputs": [],
   "metadata": {
    "colab": {
     "autoexec": {
      "startup": false,
      "wait_interval": 0
     },
     "base_uri": "https://localhost:8080/",
     "height": 233
    },
    "colab_type": "code",
    "executionInfo": {
     "elapsed": 1101,
     "status": "ok",
     "timestamp": 1533197872339,
     "user": {
      "displayName": "",
      "photoUrl": "",
      "userId": ""
     },
     "user_tz": -120
    },
    "id": "vfuQ4ldKp41g",
    "outputId": "dfb519d7-9d72-4a7d-869b-0af7fb9f2cbc",
    "scrolled": true
   }
  },
  {
   "cell_type": "code",
   "execution_count": 4,
   "source": [
    "def normal_equation(x, y, w=None):\n",
    "    if w is None:\n",
    "        return np.linalg.inv(x.T.dot(x)).dot(x.T).dot(y)\n",
    "    else:\n",
    "        return np.linalg.inv(x.T.dot(w).dot(x)).dot(x.T).dot(w).dot(y)\n",
    "    "
   ],
   "outputs": [],
   "metadata": {
    "colab": {
     "autoexec": {
      "startup": false,
      "wait_interval": 0
     }
    },
    "colab_type": "code",
    "id": "fZilPXGK84Zn"
   }
  },
  {
   "cell_type": "code",
   "execution_count": 5,
   "source": [
    "def build_weights(x, x_i, tau=5):\n",
    "    return np.diag(np.exp(-((x-x_i)[:,1]**2)/(2*tau**2)))"
   ],
   "outputs": [],
   "metadata": {
    "colab": {
     "autoexec": {
      "startup": false,
      "wait_interval": 0
     }
    },
    "colab_type": "code",
    "id": "BPNCDrRn9SXQ"
   }
  },
  {
   "cell_type": "code",
   "execution_count": 6,
   "source": [
    "y=df_train.head(1).values.T\n",
    "x=np.vstack((np.ones(cols_train.shape), cols_train)).T"
   ],
   "outputs": [],
   "metadata": {
    "colab": {
     "autoexec": {
      "startup": false,
      "wait_interval": 0
     }
    },
    "colab_type": "code",
    "id": "RhH-GSIN3Rnj"
   }
  },
  {
   "cell_type": "code",
   "execution_count": null,
   "source": [
    "theta = normal_equation(x,y)\n",
    "print(theta.ravel())"
   ],
   "outputs": [],
   "metadata": {
    "colab": {
     "autoexec": {
      "startup": false,
      "wait_interval": 0
     },
     "base_uri": "https://localhost:8080/",
     "height": 34
    },
    "colab_type": "code",
    "executionInfo": {
     "elapsed": 645,
     "status": "ok",
     "timestamp": 1533202122453,
     "user": {
      "displayName": "",
      "photoUrl": "",
      "userId": ""
     },
     "user_tz": -120
    },
    "id": "Cg4Xsf9ZvNZ7",
    "outputId": "4be60c8c-a141-4801-90eb-368396a084d1"
   }
  },
  {
   "cell_type": "code",
   "execution_count": null,
   "source": [
    "ax = sns.regplot(x=x[:,1], y=y, fit_reg=False);\n",
    "plt.plot(x[:,1], x.dot(theta), linewidth=5);\n",
    "ax.set(xlabel=\"Wavelength\", ylabel='Flux');"
   ],
   "outputs": [],
   "metadata": {
    "colab": {
     "autoexec": {
      "startup": false,
      "wait_interval": 0
     },
     "base_uri": "https://localhost:8080/",
     "height": 378
    },
    "colab_type": "code",
    "executionInfo": {
     "elapsed": 611,
     "status": "ok",
     "timestamp": 1533202026985,
     "user": {
      "displayName": "",
      "photoUrl": "",
      "userId": ""
     },
     "user_tz": -120
    },
    "id": "xqrc5C-IaA5J",
    "outputId": "bdc7d6fe-e622-4105-c112-1db18b239db6"
   }
  },
  {
   "cell_type": "code",
   "execution_count": 9,
   "source": [
    "pred = []\n",
    "for k, x_j in enumerate(x):\n",
    "    w = build_weights(x, x_j,5)\n",
    "    theta = normal_equation(x, y, w)\n",
    "    pred.append(theta.T.dot(x_j[:,np.newaxis]).ravel()[0])"
   ],
   "outputs": [],
   "metadata": {
    "colab": {
     "autoexec": {
      "startup": false,
      "wait_interval": 0
     }
    },
    "colab_type": "code",
    "id": "kzufK_cq-Qw9"
   }
  },
  {
   "cell_type": "code",
   "execution_count": null,
   "source": [
    "ax = sns.regplot(x=x[:,1], y=y, fit_reg=False);\n",
    "plt.plot(x[:,1],pred,linewidth=3);\n",
    "ax.set(xlabel=\"Wavelength\", ylabel='Flux');"
   ],
   "outputs": [],
   "metadata": {
    "colab": {
     "autoexec": {
      "startup": false,
      "wait_interval": 0
     },
     "base_uri": "https://localhost:8080/",
     "height": 378
    },
    "colab_type": "code",
    "executionInfo": {
     "elapsed": 690,
     "status": "ok",
     "timestamp": 1533204495482,
     "user": {
      "displayName": "",
      "photoUrl": "",
      "userId": ""
     },
     "user_tz": -120
    },
    "id": "Jg5r4-SUEcLW",
    "outputId": "d08bc08c-589c-43c3-e83b-bd7413b13500"
   }
  },
  {
   "cell_type": "code",
   "execution_count": null,
   "source": [
    "fig,axes = plt.subplots(2, 2, figsize=(14,10))\n",
    "axes = axes.ravel()\n",
    "\n",
    "colors = sns.color_palette(\"muted\")\n",
    "\n",
    "for k, tau in enumerate(np.logspace(0,3,4).astype(int)):\n",
    "    pred = []\n",
    "    ax=axes[k]\n",
    "    for x_j in x:\n",
    "        w = build_weights(x, x_j,tau)\n",
    "        theta = normal_equation(x, y, w)\n",
    "        pred.append(theta.T.dot(x_j[:,np.newaxis]).ravel()[0])\n",
    "\n",
    "    sns.regplot(x=x[:,1], y=y, fit_reg=False, ax=ax, color=colors[0]);\n",
    "    ax.plot(x[:,1],pred,linewidth=3,color=colors[k+1]);\n",
    "    ax.set(xlabel=\"Wavelength\", ylabel='Flux', title='tau = {}'.format(tau));"
   ],
   "outputs": [],
   "metadata": {
    "colab": {
     "autoexec": {
      "startup": false,
      "wait_interval": 0
     },
     "base_uri": "https://localhost:8080/",
     "height": 620
    },
    "colab_type": "code",
    "executionInfo": {
     "elapsed": 2982,
     "status": "ok",
     "timestamp": 1533224526267,
     "user": {
      "displayName": "",
      "photoUrl": "",
      "userId": ""
     },
     "user_tz": -120
    },
    "id": "2k_4TkbcG0B3",
    "outputId": "abcab1e0-a1fe-4034-ccde-a132a22ea968"
   }
  },
  {
   "cell_type": "code",
   "execution_count": 12,
   "source": [
    "y_train=df_train.values.T\n",
    "y_test=df_test.values.T"
   ],
   "outputs": [],
   "metadata": {
    "colab": {
     "autoexec": {
      "startup": false,
      "wait_interval": 0
     },
     "base_uri": "https://localhost:8080/",
     "height": 34
    },
    "colab_type": "code",
    "executionInfo": {
     "elapsed": 712,
     "status": "ok",
     "timestamp": 1533210948833,
     "user": {
      "displayName": "",
      "photoUrl": "",
      "userId": ""
     },
     "user_tz": -120
    },
    "id": "cS7sANIhWpPc",
    "outputId": "dc054713-46cd-4e69-a0b8-3b1a3bdbbe27"
   }
  },
  {
   "cell_type": "code",
   "execution_count": 13,
   "source": [
    "def smoother(x,y_in,tau):\n",
    "    pred = np.zeros(y_in.shape)\n",
    "    for i in range(y_in.shape[1]):\n",
    "        y = y_in[:,i]\n",
    "        for j, x_j in enumerate(x):\n",
    "            w = build_weights(x, x_j,tau)\n",
    "            theta = normal_equation(x, y, w)\n",
    "            pred[j][i] =  theta.T.dot(x_j[:,np.newaxis]).ravel()[0]\n",
    "    return pred"
   ],
   "outputs": [],
   "metadata": {
    "colab": {
     "autoexec": {
      "startup": false,
      "wait_interval": 0
     }
    },
    "colab_type": "code",
    "id": "kpopIsG6fNtl"
   }
  },
  {
   "cell_type": "code",
   "execution_count": 14,
   "source": [
    "y_train_smooth = smoother(x,y_train,5)\n",
    "y_test_smooth = smoother(x,y_test,5)"
   ],
   "outputs": [],
   "metadata": {
    "colab": {
     "autoexec": {
      "startup": false,
      "wait_interval": 0
     }
    },
    "colab_type": "code",
    "id": "paiBXLv4iHsG"
   }
  },
  {
   "cell_type": "code",
   "execution_count": 15,
   "source": [
    "def compute_delta(y,y_i):\n",
    "    return np.sum((y-y_i[:,np.newaxis])**2,0)"
   ],
   "outputs": [],
   "metadata": {
    "colab": {
     "autoexec": {
      "startup": false,
      "wait_interval": 0
     }
    },
    "colab_type": "code",
    "id": "oREn9tm8lJp6"
   }
  },
  {
   "cell_type": "code",
   "execution_count": 16,
   "source": [
    "def ker(t):\n",
    "    return np.maximum(1-t,0)"
   ],
   "outputs": [],
   "metadata": {
    "colab": {
     "autoexec": {
      "startup": false,
      "wait_interval": 0
     }
    },
    "colab_type": "code",
    "id": "OQHKSffYWO1X"
   }
  },
  {
   "cell_type": "code",
   "execution_count": 17,
   "source": [
    "def get_nearest_neighbors(y, i, deltas, k):\n",
    "    max_d = deltas.max()\n",
    "    idx = np.argsort(deltas)[:k+1]\n",
    "    return idx[:k]"
   ],
   "outputs": [],
   "metadata": {
    "colab": {
     "autoexec": {
      "startup": false,
      "wait_interval": 0
     }
    },
    "colab_type": "code",
    "id": "etCgJB6vxpva"
   }
  },
  {
   "cell_type": "code",
   "execution_count": 18,
   "source": [
    "def func_regression(x, y_train, y_test, lyman_alpha):\n",
    "    y_train_left = y_train[x < lyman_alpha,:]\n",
    "    y_train_right = y_train[x >= lyman_alpha+100,:]\n",
    "    y_test_left = y_test[x < lyman_alpha,:]\n",
    "    y_test_right = y_test[x >= lyman_alpha+100,:]\n",
    "\n",
    "    f_hat_left = np.zeros(y_test_left.shape)\n",
    "\n",
    "    for i in range(y_test_right.shape[1]):\n",
    "        deltas = compute_delta(y_train_right, y_test_right[:,i])\n",
    "        idx = get_nearest_neighbors(y_train_right,i,deltas,3)\n",
    "        h = np.max(deltas) \n",
    "        weights = ker(deltas/h)[idx]\n",
    "        \n",
    "        f_hat_num = np.sum(y_train_left[:,idx]*weights,1)\n",
    "        f_hat_den = np.sum(weights)\n",
    "        f_hat = f_hat_num/f_hat_den\n",
    "        f_hat_left[:,i] = f_hat\n",
    "    return f_hat_left"
   ],
   "outputs": [],
   "metadata": {
    "colab": {
     "autoexec": {
      "startup": false,
      "wait_interval": 0
     }
    },
    "colab_type": "code",
    "id": "qPpI-s1lqjHB"
   }
  },
  {
   "cell_type": "code",
   "execution_count": 19,
   "source": [
    "f_hat_train = func_regression(x[:,1],y_train_smooth,y_train_smooth,1200)"
   ],
   "outputs": [],
   "metadata": {
    "colab": {
     "autoexec": {
      "startup": false,
      "wait_interval": 0
     }
    },
    "colab_type": "code",
    "id": "vBA1mqwivUTN"
   }
  },
  {
   "cell_type": "code",
   "execution_count": null,
   "source": [
    "y_train_left = y_train_smooth[x[:,1] < 1200,:]\n",
    "y_test_left = y_test_smooth[x[:,1] < 1200,:]\n",
    "\n",
    "ax = plt.plot(x[x[:,1] < 1200,1],f_hat_train);\n",
    "h = np.mean(np.sum((f_hat_train-y_train_left)**2,0));\n",
    "print(h)"
   ],
   "outputs": [],
   "metadata": {
    "colab": {
     "autoexec": {
      "startup": false,
      "wait_interval": 0
     },
     "base_uri": "https://localhost:8080/",
     "height": 364
    },
    "colab_type": "code",
    "executionInfo": {
     "elapsed": 1186,
     "status": "ok",
     "timestamp": 1533224043966,
     "user": {
      "displayName": "",
      "photoUrl": "",
      "userId": ""
     },
     "user_tz": -120
    },
    "id": "EGqIHYU83MDx",
    "outputId": "b7aeac9c-9822-429b-a509-847e9303d4b2"
   }
  },
  {
   "cell_type": "code",
   "execution_count": 22,
   "source": [
    "f_hat_test = func_regression(x[:,1],y_train_smooth,y_test_smooth,1200)"
   ],
   "outputs": [],
   "metadata": {
    "colab": {
     "autoexec": {
      "startup": false,
      "wait_interval": 0
     }
    },
    "colab_type": "code",
    "id": "1iw1MX41GeZA"
   }
  },
  {
   "cell_type": "code",
   "execution_count": null,
   "source": [
    "ax = plt.plot(x[x[:,1] < 1200,1],f_hat_test);\n",
    "h = np.mean(np.sum((f_hat_test-y_test_left)**2,0))\n",
    "print(h)"
   ],
   "outputs": [],
   "metadata": {
    "colab": {
     "autoexec": {
      "startup": false,
      "wait_interval": 0
     },
     "base_uri": "https://localhost:8080/",
     "height": 364
    },
    "colab_type": "code",
    "executionInfo": {
     "elapsed": 973,
     "status": "ok",
     "timestamp": 1533224052762,
     "user": {
      "displayName": "",
      "photoUrl": "",
      "userId": ""
     },
     "user_tz": -120
    },
    "id": "gEv7_fUUKPVh",
    "outputId": "d2a19837-51e5-4907-982a-5b7d91af79cb"
   }
  },
  {
   "cell_type": "code",
   "execution_count": null,
   "source": [
    "fig, axes = plt.subplots(1,2, figsize=(16,6))\n",
    "axes[0].plot(x[x[:,1] < 1200,1],f_hat_test[:,0]);\n",
    "axes[0].plot(x[x[:,1] < 1200,1],y_test_left[:,0]);\n",
    "axes[0].set(xlabel='Wavelength', ylabel='Flux', title='Training Ex1');\n",
    "axes[0].legend(['Estimate','Smoothed Value']);\n",
    "\n",
    "axes[1].plot(x[x[:,1] < 1200,1],f_hat_test[:,5]);\n",
    "axes[1].plot(x[x[:,1] < 1200,1],y_test_left[:,5]);\n",
    "axes[1].set(xlabel='Wavelength', ylabel='Flux', title='Training Ex6');\n",
    "axes[1].legend(['Estimate','Smoothed Value']);"
   ],
   "outputs": [],
   "metadata": {
    "colab": {
     "autoexec": {
      "startup": false,
      "wait_interval": 0
     },
     "base_uri": "https://localhost:8080/",
     "height": 403
    },
    "colab_type": "code",
    "executionInfo": {
     "elapsed": 797,
     "status": "ok",
     "timestamp": 1533224506183,
     "user": {
      "displayName": "",
      "photoUrl": "",
      "userId": ""
     },
     "user_tz": -120
    },
    "id": "gdtRzDfEKVy-",
    "outputId": "a0e2cce3-0de1-473f-b8c6-e512f97e0ca7"
   }
  }
 ],
 "metadata": {
  "colab": {
   "collapsed_sections": [],
   "default_view": {},
   "name": "Bonjour, Colaboratory",
   "provenance": [],
   "version": "0.3.2",
   "views": {}
  },
  "kernelspec": {
   "name": "python3",
   "display_name": "Python 3.9.6 64-bit"
  },
  "language_info": {
   "name": "python",
   "version": "3.9.6",
   "mimetype": "text/x-python",
   "codemirror_mode": {
    "name": "ipython",
    "version": 3
   },
   "pygments_lexer": "ipython3",
   "nbconvert_exporter": "python",
   "file_extension": ".py"
  },
  "interpreter": {
   "hash": "ac2eaa0ea0ebeafcc7822e65e46aa9d4f966f30b695406963e145ea4a91cd4fc"
  }
 },
 "nbformat": 4,
 "nbformat_minor": 1
}